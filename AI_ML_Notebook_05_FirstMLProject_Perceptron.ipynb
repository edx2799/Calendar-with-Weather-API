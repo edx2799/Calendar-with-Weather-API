{
  "cells": [
    {
      "cell_type": "markdown",
      "id": "8eae2bab",
      "metadata": {
        "id": "8eae2bab"
      },
      "source": [
        "# Simple pipeline example of ML using Perceptron\n",
        "## Perceptron is the building block of many ML NN algorithms"
      ]
    },
    {
      "cell_type": "code",
      "execution_count": null,
      "id": "8ab8af23",
      "metadata": {
        "id": "8ab8af23"
      },
      "outputs": [],
      "source": [
        "import platform as pt\n",
        "import sys\n",
        "import os\n",
        "import numpy as np\n",
        "import pandas as pd\n",
        "import scipy as sp\n",
        "import matplotlib.pyplot as plt\n",
        "import tensorflow as tf"
      ]
    },
    {
      "cell_type": "markdown",
      "id": "5cd688e4",
      "metadata": {
        "id": "5cd688e4"
      },
      "source": [
        "# Perceptron imports and Decisoin Plotting\n",
        "# install the followingfor the Plotting of the results\n",
        "conda install -c conda-forge mlxtend"
      ]
    },
    {
      "cell_type": "code",
      "execution_count": null,
      "id": "e29820bd",
      "metadata": {
        "id": "e29820bd"
      },
      "outputs": [],
      "source": [
        "from sklearn.linear_model import Perceptron\n",
        "from mlxtend.plotting import plot_decision_regions"
      ]
    },
    {
      "cell_type": "markdown",
      "id": "ebaedf11",
      "metadata": {
        "id": "ebaedf11"
      },
      "source": [
        "# Print statements to check the system"
      ]
    },
    {
      "cell_type": "code",
      "execution_count": null,
      "id": "f1d7c7e1",
      "metadata": {
        "collapsed": true,
        "jupyter": {
          "outputs_hidden": true
        },
        "id": "f1d7c7e1",
        "outputId": "bb31b4c4-0f62-408d-fc6d-fec1ed375d07"
      },
      "outputs": [
        {
          "name": "stdout",
          "output_type": "stream",
          "text": [
            "Using matplotlib backend: nbAgg\n",
            "3.10.0\n",
            "3.10.0 | packaged by conda-forge | (default, Nov 10 2021, 13:20:59) [MSC v.1916 64 bit (AMD64)]\n",
            "sys.version_info(major=3, minor=10, micro=0, releaselevel='final', serial=0)\n",
            "TensorFlow version: 2.8.2\n",
            "C:\\Users\\xwc981\n"
          ]
        }
      ],
      "source": [
        "%matplotlib\n",
        "%matplotlib notebook\n",
        "%matplotlib inline\n",
        "\n",
        "print(pt.python_version())\n",
        "print(sys.version)\n",
        "print(sys.version_info)\n",
        "print(\"TensorFlow version:\", tf.__version__)\n",
        "print(os.getcwd())"
      ]
    },
    {
      "cell_type": "markdown",
      "id": "084b58af",
      "metadata": {
        "id": "084b58af"
      },
      "source": [
        "## Reading our data file csv. This one is almost ready to be trained..."
      ]
    },
    {
      "cell_type": "code",
      "execution_count": null,
      "id": "99810152",
      "metadata": {
        "collapsed": true,
        "jupyter": {
          "outputs_hidden": true
        },
        "id": "99810152",
        "outputId": "10b092e8-fc12-4a9e-af56-4fae4006fb5e"
      },
      "outputs": [
        {
          "name": "stdout",
          "output_type": "stream",
          "text": [
            "\"type\",\"sex\",\"buy\"\n",
            "\"ham\",\"0\",\"1\"\n",
            "\"ham\",\"0\",\"1\"\n",
            "\"ham\",\"1\",\"1\"\n",
            "\"spam\",\"1\",\"0\"\n",
            "\"ham\",\"0\",\"1\"\n",
            "\"spam\",\"1\",\"0\"\n",
            "\"ham\",\"0\",\"1\"\n",
            "\"ham\",\"0\",\"1\"\n",
            "\"spam\",\"2\",\"1\"\n",
            "\"ham\",\"0\",\"1\"\n",
            "\"ham\",\"0\",\"1\"\n",
            "\"ham\",\"0\",\"1\"\n",
            "\"ham\",\"0\",\"1\"\n",
            "\"ham\",\"0\",\"1\"\n",
            "\"spam\",\"1\",\"0\"\n",
            "\"ham\",\"0\",\"1\"\n",
            "\"ham\",\"0\",\"2\"\n",
            "\"ham\",\"0\",\"1\"\n",
            "\"spam\",\"1\",\"2\"\n",
            "\"ham\",\"0\",\"1\"\n",
            "\"spam\",\"1\",\"0\"\n",
            "\"ham\",\"0\",\"1\"\n",
            "\"spam\",\"1\",\"0\"\n",
            "\"ham\",\"0\",\"1\"\n",
            "\"spam\",\"2\",\"0\"\n",
            "\"ham\",\"0\",\"1\"\n",
            "\"spam\",\"1\",\"0\"\n",
            "\"ham\",\"0\",\"2\"\n",
            "\"spam\",\"1\",\"0\"\n",
            "\"ham\",\"0\",\"2\"\n",
            "\"ham\",\"0\",\"1\"\n",
            "\"ham\",\"0\",\"1\"\n",
            "\"ham\",\"1\",\"0\"\n",
            "\"ham\",\"0\",\"1\"\n",
            "\"spam\",\"1\",\"0\"\n",
            "\"ham\",\"0\",\"1\"\n",
            "\"ham\",\"0\",\"1\"\n",
            "\"ham\",\"0\",\"1\"\n",
            "\"spam\",\"1\",\"0\"\n",
            "\"ham\",\"0\",\"1\"\n",
            "\"ham\",\"1\",\"0\"\n",
            "\"ham\",\"0\",\"1\"\n",
            "\"ham\",\"0\",\"1\"\n",
            "\"ham\",\"0\",\"1\"\n",
            "\"spam\",\"1\",\"0\"\n",
            "\"ham\",\"0\",\"1\"\n",
            "\"ham\",\"0\",\"1\"\n",
            "\"spam\",\"1\",\"0\"\n",
            "\"spam\",\"1\",\"0\"\n",
            "\"spam\",\"1\",\"0\"\n",
            "\"ham\",\"1\",\"0\"\n",
            "\"ham\",\"0\",\"2\"\n",
            "\"ham\",\"0\",\"1\"\n",
            "\"ham\",\"0\",\"1\"\n",
            "\"ham\",\"1\",\"0\"\n",
            "\"ham\",\"0\",\"1\"\n",
            "\"ham\",\"0\",\"1\"\n",
            "\"spam\",\"1\",\"0\"\n",
            "\"ham\",\"0\",\"1\"\n",
            "\"ham\",\"0\",\"1\"\n",
            "\"ham\",\"1\",\"0\"\n",
            "\"spam\",\"2\",\"0\"\n",
            "\"ham\",\"1\",\"0\"\n",
            "\"ham\",\"1\",\"0\"\n",
            "\"ham\",\"0\",\"1\"\n",
            "\"ham\",\"0\",\"1\"\n",
            "\"ham\",\"0\",\"1\"\n",
            "\"ham\",\"1\",\"0\"\n",
            "\"spam\",\"1\",\"0\"\n",
            "\"ham\",\"0\",\"1\"\n",
            "\"ham\",\"1\",\"0\"\n",
            "\"ham\",\"0\",\"1\"\n",
            "\"ham\",\"0\",\"2\"\n",
            "\"ham\",\"0\",\"1\"\n",
            "\"ham\",\"1\",\"0\"\n",
            "\"spam\",\"1\",\"0\"\n",
            "\"ham\",\"0\",\"1\"\n",
            "\"ham\",\"0\",\"1\"\n",
            "\"ham\",\"0\",\"1\"\n",
            "\"ham\",\"0\",\"1\"\n",
            "\"ham\",\"0\",\"1\"\n",
            "\"ham\",\"1\",\"0\"\n",
            "\"spam\",\"2\",\"0\"\n",
            "\"ham\",\"0\",\"3\"\n",
            "\"spam\",\"1\",\"0\"\n",
            "\"ham\",\"0\",\"1\"\n",
            "\"spam\",\"1\",\"0\"\n",
            "\"ham\",\"1\",\"0\"\n",
            "\"ham\",\"0\",\"1\"\n",
            "\"ham\",\"0\",\"1\"\n",
            "\"ham\",\"0\",\"1\"\n",
            "\"ham\",\"0\",\"1\"\n",
            "\"ham\",\"0\",\"1\"\n",
            "\"ham\",\"0\",\"2\"\n",
            "\"ham\",\"0\",\"1\"\n",
            "\"ham\",\"0\",\"1\"\n",
            "\"ham\",\"0\",\"1\"\n",
            "\"spam\",\"1\",\"0\"\n",
            "\"ham\",\"0\",\"1\"\n"
          ]
        }
      ],
      "source": [
        "! type .\\sms_spam_perceptron.csv"
      ]
    },
    {
      "cell_type": "code",
      "execution_count": null,
      "id": "5df8c349",
      "metadata": {
        "collapsed": true,
        "jupyter": {
          "outputs_hidden": true
        },
        "id": "5df8c349"
      },
      "outputs": [],
      "source": [
        "# Reading as csv with a header\n",
        "df = pd.read_csv('./sms_spam_perceptron.csv')\n",
        "\n",
        "# extract the label\n",
        "y = df.iloc[:, 0].values\n",
        "\n",
        "# convert the word spam to -1 and the word ham to +1\n",
        "y = np.where(y == 'spam', -1, 1)\n",
        "\n",
        "#pick the data without the label as X\n",
        "X = df.iloc[:, [1, 2]].values"
      ]
    },
    {
      "cell_type": "code",
      "execution_count": null,
      "id": "881a8319",
      "metadata": {
        "collapsed": true,
        "jupyter": {
          "outputs_hidden": true
        },
        "id": "881a8319",
        "outputId": "5c4098d7-91cf-4a27-9156-a089067aeb90"
      },
      "outputs": [
        {
          "name": "stdout",
          "output_type": "stream",
          "text": [
            "<class 'pandas.core.frame.DataFrame'>\n",
            "RangeIndex: 99 entries, 0 to 98\n",
            "Data columns (total 3 columns):\n",
            " #   Column  Non-Null Count  Dtype \n",
            "---  ------  --------------  ----- \n",
            " 0   type    99 non-null     object\n",
            " 1   sex     99 non-null     int64 \n",
            " 2   buy     99 non-null     int64 \n",
            "dtypes: int64(2), object(1)\n",
            "memory usage: 2.4+ KB\n"
          ]
        }
      ],
      "source": [
        "df.info()"
      ]
    },
    {
      "cell_type": "code",
      "execution_count": null,
      "id": "91b264f0",
      "metadata": {
        "collapsed": true,
        "jupyter": {
          "outputs_hidden": true
        },
        "id": "91b264f0",
        "outputId": "a696e452-ed4c-416d-fbef-f82aa281b1dd"
      },
      "outputs": [
        {
          "data": {
            "text/plain": [
              "array([ 1,  1,  1, -1,  1, -1,  1,  1, -1,  1,  1,  1,  1,  1, -1,  1,  1,\n",
              "        1, -1,  1, -1,  1, -1,  1, -1,  1, -1,  1, -1,  1,  1,  1,  1,  1,\n",
              "       -1,  1,  1,  1, -1,  1,  1,  1,  1,  1, -1,  1,  1, -1, -1, -1,  1,\n",
              "        1,  1,  1,  1,  1,  1, -1,  1,  1,  1, -1,  1,  1,  1,  1,  1,  1,\n",
              "       -1,  1,  1,  1,  1,  1,  1, -1,  1,  1,  1,  1,  1,  1, -1,  1, -1,\n",
              "        1, -1,  1,  1,  1,  1,  1,  1,  1,  1,  1,  1, -1,  1])"
            ]
          },
          "execution_count": 66,
          "metadata": {},
          "output_type": "execute_result"
        }
      ],
      "source": [
        "y"
      ]
    },
    {
      "cell_type": "code",
      "execution_count": null,
      "id": "1cea737e",
      "metadata": {
        "collapsed": true,
        "jupyter": {
          "outputs_hidden": true
        },
        "id": "1cea737e",
        "outputId": "a19f7b44-3b08-477e-b27a-f3b7ffc7b40b"
      },
      "outputs": [
        {
          "data": {
            "text/html": [
              "<div>\n",
              "<style scoped>\n",
              "    .dataframe tbody tr th:only-of-type {\n",
              "        vertical-align: middle;\n",
              "    }\n",
              "\n",
              "    .dataframe tbody tr th {\n",
              "        vertical-align: top;\n",
              "    }\n",
              "\n",
              "    .dataframe thead th {\n",
              "        text-align: right;\n",
              "    }\n",
              "</style>\n",
              "<table border=\"1\" class=\"dataframe\">\n",
              "  <thead>\n",
              "    <tr style=\"text-align: right;\">\n",
              "      <th></th>\n",
              "      <th>type</th>\n",
              "      <th>sex</th>\n",
              "      <th>buy</th>\n",
              "    </tr>\n",
              "  </thead>\n",
              "  <tbody>\n",
              "    <tr>\n",
              "      <th>0</th>\n",
              "      <td>ham</td>\n",
              "      <td>0</td>\n",
              "      <td>1</td>\n",
              "    </tr>\n",
              "    <tr>\n",
              "      <th>1</th>\n",
              "      <td>ham</td>\n",
              "      <td>0</td>\n",
              "      <td>1</td>\n",
              "    </tr>\n",
              "    <tr>\n",
              "      <th>2</th>\n",
              "      <td>ham</td>\n",
              "      <td>1</td>\n",
              "      <td>1</td>\n",
              "    </tr>\n",
              "    <tr>\n",
              "      <th>3</th>\n",
              "      <td>spam</td>\n",
              "      <td>1</td>\n",
              "      <td>0</td>\n",
              "    </tr>\n",
              "    <tr>\n",
              "      <th>4</th>\n",
              "      <td>ham</td>\n",
              "      <td>0</td>\n",
              "      <td>1</td>\n",
              "    </tr>\n",
              "    <tr>\n",
              "      <th>...</th>\n",
              "      <td>...</td>\n",
              "      <td>...</td>\n",
              "      <td>...</td>\n",
              "    </tr>\n",
              "    <tr>\n",
              "      <th>94</th>\n",
              "      <td>ham</td>\n",
              "      <td>0</td>\n",
              "      <td>1</td>\n",
              "    </tr>\n",
              "    <tr>\n",
              "      <th>95</th>\n",
              "      <td>ham</td>\n",
              "      <td>0</td>\n",
              "      <td>1</td>\n",
              "    </tr>\n",
              "    <tr>\n",
              "      <th>96</th>\n",
              "      <td>ham</td>\n",
              "      <td>0</td>\n",
              "      <td>1</td>\n",
              "    </tr>\n",
              "    <tr>\n",
              "      <th>97</th>\n",
              "      <td>spam</td>\n",
              "      <td>1</td>\n",
              "      <td>0</td>\n",
              "    </tr>\n",
              "    <tr>\n",
              "      <th>98</th>\n",
              "      <td>ham</td>\n",
              "      <td>0</td>\n",
              "      <td>1</td>\n",
              "    </tr>\n",
              "  </tbody>\n",
              "</table>\n",
              "<p>99 rows × 3 columns</p>\n",
              "</div>"
            ],
            "text/plain": [
              "    type  sex  buy\n",
              "0    ham    0    1\n",
              "1    ham    0    1\n",
              "2    ham    1    1\n",
              "3   spam    1    0\n",
              "4    ham    0    1\n",
              "..   ...  ...  ...\n",
              "94   ham    0    1\n",
              "95   ham    0    1\n",
              "96   ham    0    1\n",
              "97  spam    1    0\n",
              "98   ham    0    1\n",
              "\n",
              "[99 rows x 3 columns]"
            ]
          },
          "execution_count": 67,
          "metadata": {},
          "output_type": "execute_result"
        }
      ],
      "source": [
        "df"
      ]
    },
    {
      "cell_type": "code",
      "source": [
        "df"
      ],
      "metadata": {
        "id": "8uLlxom15Hkd"
      },
      "id": "8uLlxom15Hkd",
      "execution_count": null,
      "outputs": []
    },
    {
      "cell_type": "code",
      "execution_count": null,
      "id": "4cdffaa2",
      "metadata": {
        "id": "4cdffaa2"
      },
      "outputs": [],
      "source": [
        "y = df.iloc[:, 0].values"
      ]
    },
    {
      "cell_type": "code",
      "execution_count": null,
      "id": "0b95b58f",
      "metadata": {
        "collapsed": true,
        "jupyter": {
          "outputs_hidden": true
        },
        "id": "0b95b58f",
        "outputId": "a1d26ca8-a45f-4a26-ed02-e303a175c10d"
      },
      "outputs": [
        {
          "data": {
            "text/plain": [
              "array(['ham', 'ham', 'ham', 'spam', 'ham', 'spam', 'ham', 'ham', 'spam',\n",
              "       'ham', 'ham', 'ham', 'ham', 'ham', 'spam', 'ham', 'ham', 'ham',\n",
              "       'spam', 'ham', 'spam', 'ham', 'spam', 'ham', 'spam', 'ham', 'spam',\n",
              "       'ham', 'spam', 'ham', 'ham', 'ham', 'ham', 'ham', 'spam', 'ham',\n",
              "       'ham', 'ham', 'spam', 'ham', 'ham', 'ham', 'ham', 'ham', 'spam',\n",
              "       'ham', 'ham', 'spam', 'spam', 'spam', 'ham', 'ham', 'ham', 'ham',\n",
              "       'ham', 'ham', 'ham', 'spam', 'ham', 'ham', 'ham', 'spam', 'ham',\n",
              "       'ham', 'ham', 'ham', 'ham', 'ham', 'spam', 'ham', 'ham', 'ham',\n",
              "       'ham', 'ham', 'ham', 'spam', 'ham', 'ham', 'ham', 'ham', 'ham',\n",
              "       'ham', 'spam', 'ham', 'spam', 'ham', 'spam', 'ham', 'ham', 'ham',\n",
              "       'ham', 'ham', 'ham', 'ham', 'ham', 'ham', 'ham', 'spam', 'ham'],\n",
              "      dtype=object)"
            ]
          },
          "execution_count": 69,
          "metadata": {},
          "output_type": "execute_result"
        }
      ],
      "source": [
        "y"
      ]
    },
    {
      "cell_type": "code",
      "execution_count": null,
      "id": "461de06c",
      "metadata": {
        "id": "461de06c",
        "outputId": "ce94d3e6-0a90-4c76-ba36-830d7e91afdd"
      },
      "outputs": [
        {
          "data": {
            "text/plain": [
              "numpy.ndarray"
            ]
          },
          "execution_count": 70,
          "metadata": {},
          "output_type": "execute_result"
        }
      ],
      "source": [
        "type(y)"
      ]
    },
    {
      "cell_type": "code",
      "execution_count": null,
      "id": "8552c038",
      "metadata": {
        "id": "8552c038"
      },
      "outputs": [],
      "source": [
        "y = np.where(y == 'spam', -1, 1)"
      ]
    },
    {
      "cell_type": "code",
      "execution_count": null,
      "id": "e4188dc9",
      "metadata": {
        "collapsed": true,
        "jupyter": {
          "outputs_hidden": true
        },
        "id": "e4188dc9",
        "outputId": "5f8413c5-3252-40cf-c6ac-8c4a6214214a"
      },
      "outputs": [
        {
          "data": {
            "text/plain": [
              "array([ 1,  1,  1, -1,  1, -1,  1,  1, -1,  1,  1,  1,  1,  1, -1,  1,  1,\n",
              "        1, -1,  1, -1,  1, -1,  1, -1,  1, -1,  1, -1,  1,  1,  1,  1,  1,\n",
              "       -1,  1,  1,  1, -1,  1,  1,  1,  1,  1, -1,  1,  1, -1, -1, -1,  1,\n",
              "        1,  1,  1,  1,  1,  1, -1,  1,  1,  1, -1,  1,  1,  1,  1,  1,  1,\n",
              "       -1,  1,  1,  1,  1,  1,  1, -1,  1,  1,  1,  1,  1,  1, -1,  1, -1,\n",
              "        1, -1,  1,  1,  1,  1,  1,  1,  1,  1,  1,  1, -1,  1])"
            ]
          },
          "execution_count": 72,
          "metadata": {},
          "output_type": "execute_result"
        }
      ],
      "source": [
        "y\n"
      ]
    },
    {
      "cell_type": "code",
      "execution_count": null,
      "id": "6cbc5e96",
      "metadata": {
        "id": "6cbc5e96"
      },
      "outputs": [],
      "source": [
        "X = df.iloc[:, [1, 2]].values"
      ]
    },
    {
      "cell_type": "code",
      "execution_count": null,
      "id": "637e6d9e",
      "metadata": {
        "collapsed": true,
        "jupyter": {
          "outputs_hidden": true
        },
        "id": "637e6d9e",
        "outputId": "7440b83f-b1a7-4a44-b5a3-cee87090e8ae"
      },
      "outputs": [
        {
          "data": {
            "text/plain": [
              "array([[0, 1],\n",
              "       [0, 1],\n",
              "       [1, 1],\n",
              "       [1, 0],\n",
              "       [0, 1],\n",
              "       [1, 0],\n",
              "       [0, 1],\n",
              "       [0, 1],\n",
              "       [2, 1],\n",
              "       [0, 1],\n",
              "       [0, 1],\n",
              "       [0, 1],\n",
              "       [0, 1],\n",
              "       [0, 1],\n",
              "       [1, 0],\n",
              "       [0, 1],\n",
              "       [0, 2],\n",
              "       [0, 1],\n",
              "       [1, 2],\n",
              "       [0, 1],\n",
              "       [1, 0],\n",
              "       [0, 1],\n",
              "       [1, 0],\n",
              "       [0, 1],\n",
              "       [2, 0],\n",
              "       [0, 1],\n",
              "       [1, 0],\n",
              "       [0, 2],\n",
              "       [1, 0],\n",
              "       [0, 2],\n",
              "       [0, 1],\n",
              "       [0, 1],\n",
              "       [1, 0],\n",
              "       [0, 1],\n",
              "       [1, 0],\n",
              "       [0, 1],\n",
              "       [0, 1],\n",
              "       [0, 1],\n",
              "       [1, 0],\n",
              "       [0, 1],\n",
              "       [1, 0],\n",
              "       [0, 1],\n",
              "       [0, 1],\n",
              "       [0, 1],\n",
              "       [1, 0],\n",
              "       [0, 1],\n",
              "       [0, 1],\n",
              "       [1, 0],\n",
              "       [1, 0],\n",
              "       [1, 0],\n",
              "       [1, 0],\n",
              "       [0, 2],\n",
              "       [0, 1],\n",
              "       [0, 1],\n",
              "       [1, 0],\n",
              "       [0, 1],\n",
              "       [0, 1],\n",
              "       [1, 0],\n",
              "       [0, 1],\n",
              "       [0, 1],\n",
              "       [1, 0],\n",
              "       [2, 0],\n",
              "       [1, 0],\n",
              "       [1, 0],\n",
              "       [0, 1],\n",
              "       [0, 1],\n",
              "       [0, 1],\n",
              "       [1, 0],\n",
              "       [1, 0],\n",
              "       [0, 1],\n",
              "       [1, 0],\n",
              "       [0, 1],\n",
              "       [0, 2],\n",
              "       [0, 1],\n",
              "       [1, 0],\n",
              "       [1, 0],\n",
              "       [0, 1],\n",
              "       [0, 1],\n",
              "       [0, 1],\n",
              "       [0, 1],\n",
              "       [0, 1],\n",
              "       [1, 0],\n",
              "       [2, 0],\n",
              "       [0, 3],\n",
              "       [1, 0],\n",
              "       [0, 1],\n",
              "       [1, 0],\n",
              "       [1, 0],\n",
              "       [0, 1],\n",
              "       [0, 1],\n",
              "       [0, 1],\n",
              "       [0, 1],\n",
              "       [0, 1],\n",
              "       [0, 2],\n",
              "       [0, 1],\n",
              "       [0, 1],\n",
              "       [0, 1],\n",
              "       [1, 0],\n",
              "       [0, 1]], dtype=int64)"
            ]
          },
          "execution_count": 74,
          "metadata": {},
          "output_type": "execute_result"
        }
      ],
      "source": [
        "X"
      ]
    },
    {
      "cell_type": "code",
      "execution_count": null,
      "id": "cb93ca03",
      "metadata": {
        "id": "cb93ca03",
        "outputId": "ff844763-2094-47e7-efd4-421812a2bc19"
      },
      "outputs": [
        {
          "data": {
            "text/plain": [
              "numpy.ndarray"
            ]
          },
          "execution_count": 75,
          "metadata": {},
          "output_type": "execute_result"
        }
      ],
      "source": [
        "type(X)"
      ]
    },
    {
      "cell_type": "markdown",
      "id": "12feb00c",
      "metadata": {
        "id": "12feb00c"
      },
      "source": [
        "# Splitting the data into Training and Testing"
      ]
    },
    {
      "cell_type": "code",
      "execution_count": null,
      "id": "0dabbed5",
      "metadata": {
        "id": "0dabbed5"
      },
      "outputs": [],
      "source": [
        "from sklearn.model_selection import train_test_split\n",
        "\n",
        "X_train, X_test, y_train, y_test = train_test_split(\n",
        "         X, y, test_size=0.2, random_state=0)"
      ]
    },
    {
      "cell_type": "code",
      "execution_count": null,
      "id": "c00b67f7",
      "metadata": {
        "collapsed": true,
        "jupyter": {
          "outputs_hidden": true
        },
        "id": "c00b67f7",
        "outputId": "29648c44-6118-4c97-ffe1-c10cfbe26500"
      },
      "outputs": [
        {
          "name": "stdout",
          "output_type": "stream",
          "text": [
            "79\n",
            "20\n"
          ]
        }
      ],
      "source": [
        "print(len(X_train))\n",
        "print(len(X_test))"
      ]
    },
    {
      "cell_type": "code",
      "execution_count": null,
      "id": "d34d8681",
      "metadata": {
        "id": "d34d8681",
        "outputId": "01650747-28f6-483a-94f0-0e766f7783aa"
      },
      "outputs": [
        {
          "data": {
            "text/plain": [
              "(79, 2)"
            ]
          },
          "execution_count": 78,
          "metadata": {},
          "output_type": "execute_result"
        }
      ],
      "source": [
        "X_train.shape"
      ]
    },
    {
      "cell_type": "code",
      "execution_count": null,
      "id": "737f4e27",
      "metadata": {
        "id": "737f4e27",
        "outputId": "f2dbbc25-a6f9-4d14-e341-3cb32a52508c"
      },
      "outputs": [
        {
          "data": {
            "text/plain": [
              "numpy.ndarray"
            ]
          },
          "execution_count": 79,
          "metadata": {},
          "output_type": "execute_result"
        }
      ],
      "source": [
        "type(X_train)"
      ]
    },
    {
      "cell_type": "code",
      "execution_count": null,
      "id": "edc9ec5b",
      "metadata": {
        "id": "edc9ec5b",
        "outputId": "3f93839b-4ea3-4fac-c890-7f2a9a17ef69"
      },
      "outputs": [
        {
          "data": {
            "text/plain": [
              "dtype('int64')"
            ]
          },
          "execution_count": 80,
          "metadata": {},
          "output_type": "execute_result"
        }
      ],
      "source": [
        "X_train.dtype"
      ]
    },
    {
      "cell_type": "code",
      "execution_count": null,
      "id": "722cfd57",
      "metadata": {
        "collapsed": true,
        "jupyter": {
          "outputs_hidden": true
        },
        "id": "722cfd57",
        "outputId": "939813f6-2ed2-416c-e5d0-21b60933686c"
      },
      "outputs": [
        {
          "data": {
            "text/plain": [
              "array([ 1,  1, -1,  1,  1, -1,  1,  1, -1,  1,  1,  1,  1, -1,  1,  1, -1,\n",
              "        1,  1,  1,  1, -1,  1,  1,  1,  1,  1,  1, -1, -1,  1,  1,  1, -1,\n",
              "       -1,  1,  1,  1,  1,  1,  1,  1,  1, -1,  1,  1,  1, -1, -1,  1,  1,\n",
              "        1, -1,  1, -1,  1, -1,  1,  1,  1,  1,  1,  1,  1,  1,  1,  1,  1,\n",
              "        1,  1,  1,  1,  1,  1,  1,  1,  1, -1, -1])"
            ]
          },
          "execution_count": 81,
          "metadata": {},
          "output_type": "execute_result"
        }
      ],
      "source": [
        "y_train"
      ]
    },
    {
      "cell_type": "code",
      "execution_count": null,
      "id": "ec2e3f5e",
      "metadata": {
        "collapsed": true,
        "jupyter": {
          "outputs_hidden": true
        },
        "id": "ec2e3f5e",
        "outputId": "1c436fe5-90db-4539-8a1b-bae91f8580d9"
      },
      "outputs": [
        {
          "data": {
            "text/plain": [
              "(79,)"
            ]
          },
          "execution_count": 82,
          "metadata": {},
          "output_type": "execute_result"
        }
      ],
      "source": [
        "y_train.shape"
      ]
    },
    {
      "cell_type": "code",
      "execution_count": null,
      "id": "ba7634f2",
      "metadata": {
        "collapsed": true,
        "jupyter": {
          "outputs_hidden": true
        },
        "id": "ba7634f2",
        "outputId": "9f31ad80-1e83-4017-b848-8674b2013627"
      },
      "outputs": [
        {
          "data": {
            "text/plain": [
              "dtype('int32')"
            ]
          },
          "execution_count": 37,
          "metadata": {},
          "output_type": "execute_result"
        }
      ],
      "source": [
        "y_train.dtype"
      ]
    },
    {
      "cell_type": "code",
      "execution_count": null,
      "id": "a6a7b87d",
      "metadata": {
        "collapsed": true,
        "jupyter": {
          "outputs_hidden": true
        },
        "id": "a6a7b87d",
        "outputId": "91b5c4bf-9852-41ac-d3ae-a0637ac3ea79"
      },
      "outputs": [
        {
          "data": {
            "text/html": [
              "<style>#sk-container-id-6 {color: black;}#sk-container-id-6 pre{padding: 0;}#sk-container-id-6 div.sk-toggleable {background-color: white;}#sk-container-id-6 label.sk-toggleable__label {cursor: pointer;display: block;width: 100%;margin-bottom: 0;padding: 0.3em;box-sizing: border-box;text-align: center;}#sk-container-id-6 label.sk-toggleable__label-arrow:before {content: \"▸\";float: left;margin-right: 0.25em;color: #696969;}#sk-container-id-6 label.sk-toggleable__label-arrow:hover:before {color: black;}#sk-container-id-6 div.sk-estimator:hover label.sk-toggleable__label-arrow:before {color: black;}#sk-container-id-6 div.sk-toggleable__content {max-height: 0;max-width: 0;overflow: hidden;text-align: left;background-color: #f0f8ff;}#sk-container-id-6 div.sk-toggleable__content pre {margin: 0.2em;color: black;border-radius: 0.25em;background-color: #f0f8ff;}#sk-container-id-6 input.sk-toggleable__control:checked~div.sk-toggleable__content {max-height: 200px;max-width: 100%;overflow: auto;}#sk-container-id-6 input.sk-toggleable__control:checked~label.sk-toggleable__label-arrow:before {content: \"▾\";}#sk-container-id-6 div.sk-estimator input.sk-toggleable__control:checked~label.sk-toggleable__label {background-color: #d4ebff;}#sk-container-id-6 div.sk-label input.sk-toggleable__control:checked~label.sk-toggleable__label {background-color: #d4ebff;}#sk-container-id-6 input.sk-hidden--visually {border: 0;clip: rect(1px 1px 1px 1px);clip: rect(1px, 1px, 1px, 1px);height: 1px;margin: -1px;overflow: hidden;padding: 0;position: absolute;width: 1px;}#sk-container-id-6 div.sk-estimator {font-family: monospace;background-color: #f0f8ff;border: 1px dotted black;border-radius: 0.25em;box-sizing: border-box;margin-bottom: 0.5em;}#sk-container-id-6 div.sk-estimator:hover {background-color: #d4ebff;}#sk-container-id-6 div.sk-parallel-item::after {content: \"\";width: 100%;border-bottom: 1px solid gray;flex-grow: 1;}#sk-container-id-6 div.sk-label:hover label.sk-toggleable__label {background-color: #d4ebff;}#sk-container-id-6 div.sk-serial::before {content: \"\";position: absolute;border-left: 1px solid gray;box-sizing: border-box;top: 0;bottom: 0;left: 50%;z-index: 0;}#sk-container-id-6 div.sk-serial {display: flex;flex-direction: column;align-items: center;background-color: white;padding-right: 0.2em;padding-left: 0.2em;position: relative;}#sk-container-id-6 div.sk-item {position: relative;z-index: 1;}#sk-container-id-6 div.sk-parallel {display: flex;align-items: stretch;justify-content: center;background-color: white;position: relative;}#sk-container-id-6 div.sk-item::before, #sk-container-id-6 div.sk-parallel-item::before {content: \"\";position: absolute;border-left: 1px solid gray;box-sizing: border-box;top: 0;bottom: 0;left: 50%;z-index: -1;}#sk-container-id-6 div.sk-parallel-item {display: flex;flex-direction: column;z-index: 1;position: relative;background-color: white;}#sk-container-id-6 div.sk-parallel-item:first-child::after {align-self: flex-end;width: 50%;}#sk-container-id-6 div.sk-parallel-item:last-child::after {align-self: flex-start;width: 50%;}#sk-container-id-6 div.sk-parallel-item:only-child::after {width: 0;}#sk-container-id-6 div.sk-dashed-wrapped {border: 1px dashed gray;margin: 0 0.4em 0.5em 0.4em;box-sizing: border-box;padding-bottom: 0.4em;background-color: white;}#sk-container-id-6 div.sk-label label {font-family: monospace;font-weight: bold;display: inline-block;line-height: 1.2em;}#sk-container-id-6 div.sk-label-container {text-align: center;}#sk-container-id-6 div.sk-container {/* jupyter's `normalize.less` sets `[hidden] { display: none; }` but bootstrap.min.css set `[hidden] { display: none !important; }` so we also need the `!important` here to be able to override the default hidden behavior on the sphinx rendered scikit-learn.org. See: https://github.com/scikit-learn/scikit-learn/issues/21755 */display: inline-block !important;position: relative;}#sk-container-id-6 div.sk-text-repr-fallback {display: none;}</style><div id=\"sk-container-id-6\" class=\"sk-top-container\"><div class=\"sk-text-repr-fallback\"><pre>Perceptron(eta0=0.1, max_iter=40, tol=None)</pre><b>In a Jupyter environment, please rerun this cell to show the HTML representation or trust the notebook. <br />On GitHub, the HTML representation is unable to render, please try loading this page with nbviewer.org.</b></div><div class=\"sk-container\" hidden><div class=\"sk-item\"><div class=\"sk-estimator sk-toggleable\"><input class=\"sk-toggleable__control sk-hidden--visually\" id=\"sk-estimator-id-6\" type=\"checkbox\" checked><label for=\"sk-estimator-id-6\" class=\"sk-toggleable__label sk-toggleable__label-arrow\">Perceptron</label><div class=\"sk-toggleable__content\"><pre>Perceptron(eta0=0.1, max_iter=40, tol=None)</pre></div></div></div></div></div>"
            ],
            "text/plain": [
              "Perceptron(eta0=0.1, max_iter=40, tol=None)"
            ]
          },
          "execution_count": 144,
          "metadata": {},
          "output_type": "execute_result"
        }
      ],
      "source": [
        "#clf = Perceptron(max_iter=40, eta0=0.1, random_state=0)\n",
        "clf =Perceptron(alpha=0.0001, class_weight=None, early_stopping=False, eta0=0.1,\n",
        "      fit_intercept=True, max_iter=40, n_iter_no_change=5,\n",
        "      n_jobs=None, penalty=None, random_state=0, shuffle=True, tol=None,\n",
        "      validation_fraction=0.1, verbose=0, warm_start=False)\n",
        "clf.fit(X_train, y_train)"
      ]
    },
    {
      "cell_type": "code",
      "execution_count": null,
      "id": "02b19569",
      "metadata": {
        "id": "02b19569"
      },
      "outputs": [],
      "source": [
        "clf.score(X, y)\n",
        "y_pred = p.predict(X_test)"
      ]
    },
    {
      "cell_type": "code",
      "execution_count": null,
      "id": "3dde080c",
      "metadata": {
        "collapsed": true,
        "jupyter": {
          "outputs_hidden": true
        },
        "id": "3dde080c",
        "outputId": "be7ceb78-0a8b-47be-a3f4-eb14d75a97a2"
      },
      "outputs": [
        {
          "data": {
            "text/plain": [
              "array([ 1,  1,  1,  1,  1,  1,  1,  1,  1,  1,  1,  1,  1,  1,  1,  1,  1,\n",
              "       -1,  1, -1])"
            ]
          },
          "execution_count": 146,
          "metadata": {},
          "output_type": "execute_result"
        }
      ],
      "source": [
        "y_pred"
      ]
    },
    {
      "cell_type": "code",
      "execution_count": null,
      "id": "77bb9dae",
      "metadata": {
        "collapsed": true,
        "jupyter": {
          "outputs_hidden": true
        },
        "id": "77bb9dae",
        "outputId": "949f4e8b-ccb0-441d-b976-c2e3a7a461e1"
      },
      "outputs": [
        {
          "data": {
            "image/png": "[encoded data removed]",
            "text/plain": [
              "<Figure size 640x480 with 1 Axes>"
            ]
          },
          "metadata": {},
          "output_type": "display_data"
        }
      ],
      "source": [
        "X_combined = np.vstack((X_train, X_test))\n",
        "y_combined = np.hstack((y_train, y_test))\n",
        "\n",
        "plot_decision_regions(X=X_combined, y=y_combined,clf=clf,legend=2)\n",
        "# Adding axes annotations\n",
        "plt.title('Perceptron Classifier')\n",
        "plt.xlabel('Suspect words')\n",
        "plt.ylabel('Spam or Ham')\n",
        "plt.legend(loc='upper right')\n",
        "\n",
        "#plt.tight_layout()\n",
        "plt.show()"
      ]
    },
    {
      "cell_type": "code",
      "execution_count": null,
      "id": "5e46d145",
      "metadata": {
        "collapsed": true,
        "jupyter": {
          "outputs_hidden": true
        },
        "id": "5e46d145",
        "outputId": "070775a0-c01e-46f8-d76a-54cfa827033d"
      },
      "outputs": [
        {
          "name": "stdout",
          "output_type": "stream",
          "text": [
            "Misclassified samples: 4\n",
            "Accuracy: 0.80\n"
          ]
        }
      ],
      "source": [
        "from sklearn.metrics import accuracy_score\n",
        "\n",
        "print('Misclassified samples: %d' % (y_test != y_pred).sum())\n",
        "print('Accuracy: %.2f' % accuracy_score(y_test, y_pred))"
      ]
    },
    {
      "cell_type": "code",
      "execution_count": null,
      "id": "772b0da1",
      "metadata": {
        "id": "772b0da1"
      },
      "outputs": [],
      "source": [
        "# Import metrics from the sklearn module\n",
        "from sklearn.metrics import confusion_matrix\n"
      ]
    },
    {
      "cell_type": "code",
      "execution_count": null,
      "id": "ad375ded",
      "metadata": {
        "id": "ad375ded"
      },
      "outputs": [],
      "source": [
        "#Run the confusion matrix function on actual and predicted values\n",
        "cm=confusion_matrix(y_test, y_pred,labels=p.classes_)"
      ]
    },
    {
      "cell_type": "code",
      "execution_count": null,
      "id": "af1f670b",
      "metadata": {
        "collapsed": true,
        "jupyter": {
          "outputs_hidden": true
        },
        "id": "af1f670b",
        "outputId": "97659075-81f6-4b68-eaa5-f9b4116bbfc2"
      },
      "outputs": [
        {
          "data": {
            "text/plain": [
              "<sklearn.metrics._plot.confusion_matrix.ConfusionMatrixDisplay at 0x28531445330>"
            ]
          },
          "execution_count": 138,
          "metadata": {},
          "output_type": "execute_result"
        },
        {
          "data": {
            "image/png": "[encoded data removed]",
            "text/plain": [
              "<Figure size 640x480 with 2 Axes>"
            ]
          },
          "metadata": {},
          "output_type": "display_data"
        }
      ],
      "source": [
        "# Plot the confusion matrix\n",
        "import matplotlib.pyplot as plt\n",
        "# from sklearn.metrics import plot_confusion_matrix\n",
        "from sklearn.metrics import ConfusionMatrixDisplay\n",
        "disp= ConfusionMatrixDisplay(cm, display_labels=p.classes_)\n",
        "disp.plot()"
      ]
    }
  ],
  "metadata": {
    "kernelspec": {
      "display_name": "Python 3 (ipykernel)",
      "language": "python",
      "name": "python3"
    },
    "language_info": {
      "codemirror_mode": {
        "name": "ipython",
        "version": 3
      },
      "file_extension": ".py",
      "mimetype": "text/x-python",
      "name": "python",
      "nbconvert_exporter": "python",
      "pygments_lexer": "ipython3",
      "version": "3.12.4"
    },
    "colab": {
      "provenance": []
    }
  },
  "nbformat": 4,
  "nbformat_minor": 5
}